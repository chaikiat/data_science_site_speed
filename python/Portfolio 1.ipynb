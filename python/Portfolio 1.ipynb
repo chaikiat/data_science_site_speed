{
 "cells": [
  {
   "cell_type": "code",
   "execution_count": 1,
   "id": "08fb15b3",
   "metadata": {},
   "outputs": [],
   "source": [
    "import os\n",
    "import pandas as pd\n",
    "import numpy as np \n",
    "import matplotlib.pyplot as plt\n",
    "import seaborn as sns"
   ]
  },
  {
   "cell_type": "markdown",
   "id": "20c39b8d",
   "metadata": {},
   "source": [
    "## Analysis of Property Sales\n",
    "\n",
    "You are provided with a real dataset gathered from public sources that includes date, price and basic property information from real estate transactions in Melbourne. There are many undefined and incorrect values in the dataset, but this is common in real data. Your task will be to clean and prepare the data, then conduct some basic analysis on the cleaned data using summary statistics and visualization. This notebook should include markdown cells to structure your work, explain your reasoning and interpret results as well as plots to communicate your findings. The questions focus on residential properties, however, the data may also contain commercial/industrial properties, car spaces etc.\n",
    "\n",
    "### Description of Fields\n",
    "* suburb - Suburb\n",
    "* address - Address\n",
    "* bedrooms - Number of bedrooms\n",
    "* price - Price in Australian dollars\n",
    "* method -\n",
    "    * S - property sold;\n",
    "    * SP - property sold prior;\n",
    "    * PI - property passed in;\n",
    "    * PN - sold prior not disclosed;\n",
    "    * SN - sold not disclosed;\n",
    "    * NB - no bid;\n",
    "    * VB - vendor bid;\n",
    "    * W - withdrawn prior to auction;\n",
    "    * SA - sold after auction;\n",
    "    * SS - sold after auction price not disclosed.\n",
    "    * N/A - price or highest bid not available.\n",
    "* type -\n",
    "    * h - house, cottage, villa, semi, terrace;\n",
    "    * u - unit, duplex;\n",
    "    * t - townhouse;\n",
    "    * dev site - development site;\n",
    "    * o res - other residential.\n",
    "* date - Date sold\n",
    "* distance - Distance from CBD in kilometres\n",
    "* region_name - Region\n",
    "* bathrooms - Number of bathrooms\n",
    "* car - Number of car spaces\n",
    "* land_size - Land size in square metres\n",
    "* building_area - Building size in square metres\n",
    "* year_built - Year of primary construction\n",
    "* council_area - Governing council for the area\n",
    "* latitude\n",
    "* longitude\n",
    "\n",
    "Original dataset credit: [Tony Pino](https://www.kaggle.com/anthonypino)."
   ]
  },
  {
   "cell_type": "markdown",
   "id": "2ea737a9",
   "metadata": {},
   "source": [
    "## Tasks\n",
    "\n",
    "1. Cleaning and Preparation\n",
    "    * A) Remove all rows where the price is not known.\n",
    "    * B) Remove all rows where the building area is not known or not realistic. Briefly justify an appropriate lower and upper bound.\n",
    "    * C) Convert the date column to the pandas datetime type.\n",
    "    * D) (Optional) Remove, with justification, any other rows you think appropriate in this context.\n",
    "2. Analysis Questions\n",
    "    * A) After cleaning, was more money spent on houses or units overall? How many of each were sold?\n",
    "    * B) Plot the relationship between building area and price, is this what you would expect?\n",
    "    * C) If you limit your analysis to only 2 bedroom properties, are units or houses more expensive? Plot and interpret the distribution of prices for each.\n",
    "    * D) Split your data into separate dataframes for 2016, 2017 and 2018. Is the average price of a house going up or down in the period? Is the trend the same for units?\n",
    "  "
   ]
  },
  {
   "cell_type": "markdown",
   "id": "1eabdd62",
   "metadata": {},
   "source": [
    "**Action:** Reading the data file and set as a variable"
   ]
  },
  {
   "cell_type": "code",
   "execution_count": 2,
   "id": "99e2305d",
   "metadata": {
    "scrolled": true
   },
   "outputs": [
    {
     "data": {
      "text/html": [
       "<div>\n",
       "<style scoped>\n",
       "    .dataframe tbody tr th:only-of-type {\n",
       "        vertical-align: middle;\n",
       "    }\n",
       "\n",
       "    .dataframe tbody tr th {\n",
       "        vertical-align: top;\n",
       "    }\n",
       "\n",
       "    .dataframe thead th {\n",
       "        text-align: right;\n",
       "    }\n",
       "</style>\n",
       "<table border=\"1\" class=\"dataframe\">\n",
       "  <thead>\n",
       "    <tr style=\"text-align: right;\">\n",
       "      <th></th>\n",
       "      <th>suburb</th>\n",
       "      <th>address</th>\n",
       "      <th>bedrooms</th>\n",
       "      <th>type</th>\n",
       "      <th>price</th>\n",
       "      <th>method</th>\n",
       "      <th>date</th>\n",
       "      <th>distance</th>\n",
       "      <th>postcode</th>\n",
       "      <th>bathrooms</th>\n",
       "      <th>car</th>\n",
       "      <th>land_size</th>\n",
       "      <th>building_area</th>\n",
       "      <th>year_built</th>\n",
       "      <th>council_area</th>\n",
       "      <th>latitude</th>\n",
       "      <th>longtitude</th>\n",
       "      <th>region</th>\n",
       "    </tr>\n",
       "  </thead>\n",
       "  <tbody>\n",
       "    <tr>\n",
       "      <th>0</th>\n",
       "      <td>Abbotsford</td>\n",
       "      <td>68 Studley St</td>\n",
       "      <td>2</td>\n",
       "      <td>h</td>\n",
       "      <td>NaN</td>\n",
       "      <td>SS</td>\n",
       "      <td>3/09/2016</td>\n",
       "      <td>2.5</td>\n",
       "      <td>3067.0</td>\n",
       "      <td>1.0</td>\n",
       "      <td>1.0</td>\n",
       "      <td>126.0</td>\n",
       "      <td>NaN</td>\n",
       "      <td>NaN</td>\n",
       "      <td>Yarra City Council</td>\n",
       "      <td>-37.8014</td>\n",
       "      <td>144.9958</td>\n",
       "      <td>Northern Metropolitan</td>\n",
       "    </tr>\n",
       "    <tr>\n",
       "      <th>1</th>\n",
       "      <td>Abbotsford</td>\n",
       "      <td>85 Turner St</td>\n",
       "      <td>2</td>\n",
       "      <td>h</td>\n",
       "      <td>1480000.0</td>\n",
       "      <td>S</td>\n",
       "      <td>3/12/2016</td>\n",
       "      <td>2.5</td>\n",
       "      <td>3067.0</td>\n",
       "      <td>1.0</td>\n",
       "      <td>1.0</td>\n",
       "      <td>202.0</td>\n",
       "      <td>NaN</td>\n",
       "      <td>NaN</td>\n",
       "      <td>Yarra City Council</td>\n",
       "      <td>-37.7996</td>\n",
       "      <td>144.9984</td>\n",
       "      <td>Northern Metropolitan</td>\n",
       "    </tr>\n",
       "    <tr>\n",
       "      <th>2</th>\n",
       "      <td>Abbotsford</td>\n",
       "      <td>25 Bloomburg St</td>\n",
       "      <td>2</td>\n",
       "      <td>h</td>\n",
       "      <td>1035000.0</td>\n",
       "      <td>S</td>\n",
       "      <td>4/02/2016</td>\n",
       "      <td>2.5</td>\n",
       "      <td>3067.0</td>\n",
       "      <td>1.0</td>\n",
       "      <td>0.0</td>\n",
       "      <td>156.0</td>\n",
       "      <td>79.0</td>\n",
       "      <td>1900.0</td>\n",
       "      <td>Yarra City Council</td>\n",
       "      <td>-37.8079</td>\n",
       "      <td>144.9934</td>\n",
       "      <td>Northern Metropolitan</td>\n",
       "    </tr>\n",
       "    <tr>\n",
       "      <th>3</th>\n",
       "      <td>Abbotsford</td>\n",
       "      <td>18/659 Victoria St</td>\n",
       "      <td>3</td>\n",
       "      <td>u</td>\n",
       "      <td>NaN</td>\n",
       "      <td>VB</td>\n",
       "      <td>4/02/2016</td>\n",
       "      <td>2.5</td>\n",
       "      <td>3067.0</td>\n",
       "      <td>2.0</td>\n",
       "      <td>1.0</td>\n",
       "      <td>0.0</td>\n",
       "      <td>NaN</td>\n",
       "      <td>NaN</td>\n",
       "      <td>Yarra City Council</td>\n",
       "      <td>-37.8114</td>\n",
       "      <td>145.0116</td>\n",
       "      <td>Northern Metropolitan</td>\n",
       "    </tr>\n",
       "    <tr>\n",
       "      <th>4</th>\n",
       "      <td>Abbotsford</td>\n",
       "      <td>5 Charles St</td>\n",
       "      <td>3</td>\n",
       "      <td>h</td>\n",
       "      <td>1465000.0</td>\n",
       "      <td>SP</td>\n",
       "      <td>4/03/2017</td>\n",
       "      <td>2.5</td>\n",
       "      <td>3067.0</td>\n",
       "      <td>2.0</td>\n",
       "      <td>0.0</td>\n",
       "      <td>134.0</td>\n",
       "      <td>150.0</td>\n",
       "      <td>1900.0</td>\n",
       "      <td>Yarra City Council</td>\n",
       "      <td>-37.8093</td>\n",
       "      <td>144.9944</td>\n",
       "      <td>Northern Metropolitan</td>\n",
       "    </tr>\n",
       "  </tbody>\n",
       "</table>\n",
       "</div>"
      ],
      "text/plain": [
       "       suburb             address  bedrooms type      price method       date  \\\n",
       "0  Abbotsford       68 Studley St         2    h        NaN     SS  3/09/2016   \n",
       "1  Abbotsford        85 Turner St         2    h  1480000.0      S  3/12/2016   \n",
       "2  Abbotsford     25 Bloomburg St         2    h  1035000.0      S  4/02/2016   \n",
       "3  Abbotsford  18/659 Victoria St         3    u        NaN     VB  4/02/2016   \n",
       "4  Abbotsford        5 Charles St         3    h  1465000.0     SP  4/03/2017   \n",
       "\n",
       "   distance  postcode  bathrooms  car  land_size  building_area  year_built  \\\n",
       "0       2.5    3067.0        1.0  1.0      126.0            NaN         NaN   \n",
       "1       2.5    3067.0        1.0  1.0      202.0            NaN         NaN   \n",
       "2       2.5    3067.0        1.0  0.0      156.0           79.0      1900.0   \n",
       "3       2.5    3067.0        2.0  1.0        0.0            NaN         NaN   \n",
       "4       2.5    3067.0        2.0  0.0      134.0          150.0      1900.0   \n",
       "\n",
       "         council_area  latitude  longtitude                 region  \n",
       "0  Yarra City Council  -37.8014    144.9958  Northern Metropolitan  \n",
       "1  Yarra City Council  -37.7996    144.9984  Northern Metropolitan  \n",
       "2  Yarra City Council  -37.8079    144.9934  Northern Metropolitan  \n",
       "3  Yarra City Council  -37.8114    145.0116  Northern Metropolitan  \n",
       "4  Yarra City Council  -37.8093    144.9944  Northern Metropolitan  "
      ]
     },
     "execution_count": 2,
     "metadata": {},
     "output_type": "execute_result"
    }
   ],
   "source": [
    "melb = pd.read_csv(os.path.join(\"files\", \"melbourne_data.csv\"))\n",
    "melb.head()"
   ]
  },
  {
   "cell_type": "markdown",
   "id": "feafdde2",
   "metadata": {},
   "source": [
    "#### 1A) Remove all rows where the price is not known"
   ]
  },
  {
   "cell_type": "code",
   "execution_count": 3,
   "id": "359a0df1",
   "metadata": {},
   "outputs": [
    {
     "data": {
      "text/html": [
       "<div>\n",
       "<style scoped>\n",
       "    .dataframe tbody tr th:only-of-type {\n",
       "        vertical-align: middle;\n",
       "    }\n",
       "\n",
       "    .dataframe tbody tr th {\n",
       "        vertical-align: top;\n",
       "    }\n",
       "\n",
       "    .dataframe thead th {\n",
       "        text-align: right;\n",
       "    }\n",
       "</style>\n",
       "<table border=\"1\" class=\"dataframe\">\n",
       "  <thead>\n",
       "    <tr style=\"text-align: right;\">\n",
       "      <th></th>\n",
       "      <th>suburb</th>\n",
       "      <th>address</th>\n",
       "      <th>bedrooms</th>\n",
       "      <th>type</th>\n",
       "      <th>price</th>\n",
       "      <th>method</th>\n",
       "      <th>date</th>\n",
       "      <th>distance</th>\n",
       "      <th>postcode</th>\n",
       "      <th>bathrooms</th>\n",
       "      <th>car</th>\n",
       "      <th>land_size</th>\n",
       "      <th>building_area</th>\n",
       "      <th>year_built</th>\n",
       "      <th>council_area</th>\n",
       "      <th>latitude</th>\n",
       "      <th>longtitude</th>\n",
       "      <th>region</th>\n",
       "    </tr>\n",
       "  </thead>\n",
       "  <tbody>\n",
       "    <tr>\n",
       "      <th>1</th>\n",
       "      <td>Abbotsford</td>\n",
       "      <td>85 Turner St</td>\n",
       "      <td>2</td>\n",
       "      <td>h</td>\n",
       "      <td>1480000.0</td>\n",
       "      <td>S</td>\n",
       "      <td>3/12/2016</td>\n",
       "      <td>2.5</td>\n",
       "      <td>3067.0</td>\n",
       "      <td>1.0</td>\n",
       "      <td>1.0</td>\n",
       "      <td>202.0</td>\n",
       "      <td>NaN</td>\n",
       "      <td>NaN</td>\n",
       "      <td>Yarra City Council</td>\n",
       "      <td>-37.7996</td>\n",
       "      <td>144.9984</td>\n",
       "      <td>Northern Metropolitan</td>\n",
       "    </tr>\n",
       "    <tr>\n",
       "      <th>2</th>\n",
       "      <td>Abbotsford</td>\n",
       "      <td>25 Bloomburg St</td>\n",
       "      <td>2</td>\n",
       "      <td>h</td>\n",
       "      <td>1035000.0</td>\n",
       "      <td>S</td>\n",
       "      <td>4/02/2016</td>\n",
       "      <td>2.5</td>\n",
       "      <td>3067.0</td>\n",
       "      <td>1.0</td>\n",
       "      <td>0.0</td>\n",
       "      <td>156.0</td>\n",
       "      <td>79.0</td>\n",
       "      <td>1900.0</td>\n",
       "      <td>Yarra City Council</td>\n",
       "      <td>-37.8079</td>\n",
       "      <td>144.9934</td>\n",
       "      <td>Northern Metropolitan</td>\n",
       "    </tr>\n",
       "    <tr>\n",
       "      <th>4</th>\n",
       "      <td>Abbotsford</td>\n",
       "      <td>5 Charles St</td>\n",
       "      <td>3</td>\n",
       "      <td>h</td>\n",
       "      <td>1465000.0</td>\n",
       "      <td>SP</td>\n",
       "      <td>4/03/2017</td>\n",
       "      <td>2.5</td>\n",
       "      <td>3067.0</td>\n",
       "      <td>2.0</td>\n",
       "      <td>0.0</td>\n",
       "      <td>134.0</td>\n",
       "      <td>150.0</td>\n",
       "      <td>1900.0</td>\n",
       "      <td>Yarra City Council</td>\n",
       "      <td>-37.8093</td>\n",
       "      <td>144.9944</td>\n",
       "      <td>Northern Metropolitan</td>\n",
       "    </tr>\n",
       "    <tr>\n",
       "      <th>5</th>\n",
       "      <td>Abbotsford</td>\n",
       "      <td>40 Federation La</td>\n",
       "      <td>3</td>\n",
       "      <td>h</td>\n",
       "      <td>850000.0</td>\n",
       "      <td>PI</td>\n",
       "      <td>4/03/2017</td>\n",
       "      <td>2.5</td>\n",
       "      <td>3067.0</td>\n",
       "      <td>2.0</td>\n",
       "      <td>1.0</td>\n",
       "      <td>94.0</td>\n",
       "      <td>NaN</td>\n",
       "      <td>NaN</td>\n",
       "      <td>Yarra City Council</td>\n",
       "      <td>-37.7969</td>\n",
       "      <td>144.9969</td>\n",
       "      <td>Northern Metropolitan</td>\n",
       "    </tr>\n",
       "    <tr>\n",
       "      <th>6</th>\n",
       "      <td>Abbotsford</td>\n",
       "      <td>55a Park St</td>\n",
       "      <td>4</td>\n",
       "      <td>h</td>\n",
       "      <td>1600000.0</td>\n",
       "      <td>VB</td>\n",
       "      <td>4/06/2016</td>\n",
       "      <td>2.5</td>\n",
       "      <td>3067.0</td>\n",
       "      <td>1.0</td>\n",
       "      <td>2.0</td>\n",
       "      <td>120.0</td>\n",
       "      <td>142.0</td>\n",
       "      <td>2014.0</td>\n",
       "      <td>Yarra City Council</td>\n",
       "      <td>-37.8072</td>\n",
       "      <td>144.9941</td>\n",
       "      <td>Northern Metropolitan</td>\n",
       "    </tr>\n",
       "  </tbody>\n",
       "</table>\n",
       "</div>"
      ],
      "text/plain": [
       "       suburb           address  bedrooms type      price method       date  \\\n",
       "1  Abbotsford      85 Turner St         2    h  1480000.0      S  3/12/2016   \n",
       "2  Abbotsford   25 Bloomburg St         2    h  1035000.0      S  4/02/2016   \n",
       "4  Abbotsford      5 Charles St         3    h  1465000.0     SP  4/03/2017   \n",
       "5  Abbotsford  40 Federation La         3    h   850000.0     PI  4/03/2017   \n",
       "6  Abbotsford       55a Park St         4    h  1600000.0     VB  4/06/2016   \n",
       "\n",
       "   distance  postcode  bathrooms  car  land_size  building_area  year_built  \\\n",
       "1       2.5    3067.0        1.0  1.0      202.0            NaN         NaN   \n",
       "2       2.5    3067.0        1.0  0.0      156.0           79.0      1900.0   \n",
       "4       2.5    3067.0        2.0  0.0      134.0          150.0      1900.0   \n",
       "5       2.5    3067.0        2.0  1.0       94.0            NaN         NaN   \n",
       "6       2.5    3067.0        1.0  2.0      120.0          142.0      2014.0   \n",
       "\n",
       "         council_area  latitude  longtitude                 region  \n",
       "1  Yarra City Council  -37.7996    144.9984  Northern Metropolitan  \n",
       "2  Yarra City Council  -37.8079    144.9934  Northern Metropolitan  \n",
       "4  Yarra City Council  -37.8093    144.9944  Northern Metropolitan  \n",
       "5  Yarra City Council  -37.7969    144.9969  Northern Metropolitan  \n",
       "6  Yarra City Council  -37.8072    144.9941  Northern Metropolitan  "
      ]
     },
     "execution_count": 3,
     "metadata": {},
     "output_type": "execute_result"
    }
   ],
   "source": [
    "melb_with_price = melb.dropna(subset=['price'])\n",
    "melb_with_price.head()"
   ]
  },
  {
   "cell_type": "markdown",
   "id": "869e1aee",
   "metadata": {},
   "source": [
    "#### 1B) Remove all rows where the building area is not known or not realistic. Briefly justify an appropriate lower and upper bound."
   ]
  },
  {
   "cell_type": "markdown",
   "id": "1ad1fba0",
   "metadata": {},
   "source": [
    "**Action:** Create a new dataframe where 'price' and 'building_area' are known"
   ]
  },
  {
   "cell_type": "code",
   "execution_count": 4,
   "id": "113a35b4",
   "metadata": {},
   "outputs": [
    {
     "name": "stdout",
     "output_type": "stream",
     "text": [
      "count    1.065600e+04\n",
      "mean     1.087051e+06\n",
      "std      6.771761e+05\n",
      "min      1.310000e+05\n",
      "25%      6.400000e+05\n",
      "50%      8.925000e+05\n",
      "75%      1.330000e+06\n",
      "max      9.000000e+06\n",
      "Name: price, dtype: float64\n",
      "count    10656.000000\n",
      "mean       156.834586\n",
      "std        449.222791\n",
      "min          0.000000\n",
      "25%        100.000000\n",
      "50%        133.000000\n",
      "75%        182.000000\n",
      "max      44515.000000\n",
      "Name: building_area, dtype: float64\n"
     ]
    }
   ],
   "source": [
    "melb_with_price_and_build_area = melb_with_price.dropna(subset=['building_area'])\n",
    "print(melb_with_price_and_build_area['price'].describe())\n",
    "print(melb_with_price_and_build_area['building_area'].describe())"
   ]
  },
  {
   "cell_type": "markdown",
   "id": "bde664da",
   "metadata": {},
   "source": [
    "Price and Building Area both have positive integers as values."
   ]
  },
  {
   "cell_type": "markdown",
   "id": "38be2975",
   "metadata": {},
   "source": [
    "**Action:** Create a boxplot to observe for outliers"
   ]
  },
  {
   "cell_type": "code",
   "execution_count": 5,
   "id": "b8f3d042",
   "metadata": {},
   "outputs": [
    {
     "data": {
      "text/plain": [
       "Text(0.5, 1.0, 'Distribution Of Building Area')"
      ]
     },
     "execution_count": 5,
     "metadata": {},
     "output_type": "execute_result"
    },
    {
     "data": {
      "image/png": "[encoded data removed]",
      "text/plain": [
       "<Figure size 432x288 with 1 Axes>"
      ]
     },
     "metadata": {
      "needs_background": "light"
     },
     "output_type": "display_data"
    }
   ],
   "source": [
    "melb_with_price_and_build_area.boxplot(column = ['building_area']) \n",
    "plt.title('Distribution Of Building Area')"
   ]
  },
  {
   "cell_type": "markdown",
   "id": "de149cdd",
   "metadata": {},
   "source": [
    "There is one outlier that is above 40k, which is not realistic."
   ]
  },
  {
   "cell_type": "markdown",
   "id": "db77097b",
   "metadata": {},
   "source": [
    "**Action:** Remove values above 10000"
   ]
  },
  {
   "cell_type": "code",
   "execution_count": 6,
   "id": "335b1afe",
   "metadata": {},
   "outputs": [],
   "source": [
    "melb_with_price_and_build_area = melb_with_price_and_build_area[melb_with_price_and_build_area['building_area'] < 10000]"
   ]
  },
  {
   "cell_type": "markdown",
   "id": "a1f1e3e7",
   "metadata": {},
   "source": [
    "**Action:** Boxplot to observe series after removing the outlier"
   ]
  },
  {
   "cell_type": "code",
   "execution_count": 7,
   "id": "50c735b8",
   "metadata": {},
   "outputs": [
    {
     "data": {
      "text/plain": [
       "Text(0.5, 1.0, 'Distribution Of Building Area')"
      ]
     },
     "execution_count": 7,
     "metadata": {},
     "output_type": "execute_result"
    },
    {
     "data": {
      "image/png": "[encoded data removed]",
      "text/plain": [
       "<Figure size 432x288 with 1 Axes>"
      ]
     },
     "metadata": {
      "needs_background": "light"
     },
     "output_type": "display_data"
    }
   ],
   "source": [
    "melb_with_price_and_build_area.boxplot(column = ['building_area']) \n",
    "plt.title('Distribution Of Building Area')"
   ]
  },
  {
   "cell_type": "markdown",
   "id": "792517f1",
   "metadata": {},
   "source": [
    "Building area above 2000 are likely to be commercial and industrial buildings."
   ]
  },
  {
   "cell_type": "markdown",
   "id": "c9f9bfd1",
   "metadata": {},
   "source": [
    "**Action:** Remove value above 2000"
   ]
  },
  {
   "cell_type": "code",
   "execution_count": 8,
   "id": "92e04938",
   "metadata": {},
   "outputs": [
    {
     "data": {
      "text/plain": [
       "Text(0.5, 1.0, 'Distribution of Building Area')"
      ]
     },
     "execution_count": 8,
     "metadata": {},
     "output_type": "execute_result"
    },
    {
     "data": {
      "image/png": "[encoded data removed]",
      "text/plain": [
       "<Figure size 432x288 with 1 Axes>"
      ]
     },
     "metadata": {
      "needs_background": "light"
     },
     "output_type": "display_data"
    }
   ],
   "source": [
    "melb_with_price_and_build_area = melb_with_price_and_build_area[melb_with_price_and_build_area['building_area'] < 2000]\n",
    "melb_with_price_and_build_area.boxplot(column = ['building_area']) \n",
    "plt.title('Distribution of Building Area')"
   ]
  },
  {
   "cell_type": "markdown",
   "id": "5d1817ec",
   "metadata": {},
   "source": [
    "The data now looks to only include residential buildings."
   ]
  },
  {
   "cell_type": "markdown",
   "id": "8bc7d179",
   "metadata": {},
   "source": [
    "Describe the cleaned building area data"
   ]
  },
  {
   "cell_type": "code",
   "execution_count": 9,
   "id": "ce724854",
   "metadata": {},
   "outputs": [
    {
     "name": "stdout",
     "output_type": "stream",
     "text": [
      "count    10651.000000\n",
      "mean       150.884926\n",
      "std         87.532425\n",
      "min          0.000000\n",
      "25%        100.000000\n",
      "50%        133.000000\n",
      "75%        181.000000\n",
      "max       1561.000000\n",
      "Name: building_area, dtype: float64\n"
     ]
    }
   ],
   "source": [
    "print(melb_with_price_and_build_area['building_area'].describe())"
   ]
  },
  {
   "cell_type": "markdown",
   "id": "a9491fb5",
   "metadata": {},
   "source": [
    "Minimum building area of 0 is likely to be land only.\n",
    "Maximum building area of 1561 is likely to be a large house."
   ]
  },
  {
   "cell_type": "markdown",
   "id": "7728666d",
   "metadata": {},
   "source": [
    "#### 1C)  Convert the date column to the pandas datetime type"
   ]
  },
  {
   "cell_type": "code",
   "execution_count": 10,
   "id": "609706bb",
   "metadata": {},
   "outputs": [
    {
     "data": {
      "text/html": [
       "<div>\n",
       "<style scoped>\n",
       "    .dataframe tbody tr th:only-of-type {\n",
       "        vertical-align: middle;\n",
       "    }\n",
       "\n",
       "    .dataframe tbody tr th {\n",
       "        vertical-align: top;\n",
       "    }\n",
       "\n",
       "    .dataframe thead th {\n",
       "        text-align: right;\n",
       "    }\n",
       "</style>\n",
       "<table border=\"1\" class=\"dataframe\">\n",
       "  <thead>\n",
       "    <tr style=\"text-align: right;\">\n",
       "      <th></th>\n",
       "      <th>suburb</th>\n",
       "      <th>address</th>\n",
       "      <th>bedrooms</th>\n",
       "      <th>type</th>\n",
       "      <th>price</th>\n",
       "      <th>method</th>\n",
       "      <th>date</th>\n",
       "      <th>distance</th>\n",
       "      <th>postcode</th>\n",
       "      <th>bathrooms</th>\n",
       "      <th>car</th>\n",
       "      <th>land_size</th>\n",
       "      <th>building_area</th>\n",
       "      <th>year_built</th>\n",
       "      <th>council_area</th>\n",
       "      <th>latitude</th>\n",
       "      <th>longtitude</th>\n",
       "      <th>region</th>\n",
       "    </tr>\n",
       "  </thead>\n",
       "  <tbody>\n",
       "    <tr>\n",
       "      <th>2</th>\n",
       "      <td>Abbotsford</td>\n",
       "      <td>25 Bloomburg St</td>\n",
       "      <td>2</td>\n",
       "      <td>h</td>\n",
       "      <td>1035000.0</td>\n",
       "      <td>S</td>\n",
       "      <td>2016-04-02</td>\n",
       "      <td>2.5</td>\n",
       "      <td>3067.0</td>\n",
       "      <td>1.0</td>\n",
       "      <td>0.0</td>\n",
       "      <td>156.0</td>\n",
       "      <td>79.0</td>\n",
       "      <td>1900.0</td>\n",
       "      <td>Yarra City Council</td>\n",
       "      <td>-37.8079</td>\n",
       "      <td>144.9934</td>\n",
       "      <td>Northern Metropolitan</td>\n",
       "    </tr>\n",
       "    <tr>\n",
       "      <th>4</th>\n",
       "      <td>Abbotsford</td>\n",
       "      <td>5 Charles St</td>\n",
       "      <td>3</td>\n",
       "      <td>h</td>\n",
       "      <td>1465000.0</td>\n",
       "      <td>SP</td>\n",
       "      <td>2017-04-03</td>\n",
       "      <td>2.5</td>\n",
       "      <td>3067.0</td>\n",
       "      <td>2.0</td>\n",
       "      <td>0.0</td>\n",
       "      <td>134.0</td>\n",
       "      <td>150.0</td>\n",
       "      <td>1900.0</td>\n",
       "      <td>Yarra City Council</td>\n",
       "      <td>-37.8093</td>\n",
       "      <td>144.9944</td>\n",
       "      <td>Northern Metropolitan</td>\n",
       "    </tr>\n",
       "    <tr>\n",
       "      <th>6</th>\n",
       "      <td>Abbotsford</td>\n",
       "      <td>55a Park St</td>\n",
       "      <td>4</td>\n",
       "      <td>h</td>\n",
       "      <td>1600000.0</td>\n",
       "      <td>VB</td>\n",
       "      <td>2016-04-06</td>\n",
       "      <td>2.5</td>\n",
       "      <td>3067.0</td>\n",
       "      <td>1.0</td>\n",
       "      <td>2.0</td>\n",
       "      <td>120.0</td>\n",
       "      <td>142.0</td>\n",
       "      <td>2014.0</td>\n",
       "      <td>Yarra City Council</td>\n",
       "      <td>-37.8072</td>\n",
       "      <td>144.9941</td>\n",
       "      <td>Northern Metropolitan</td>\n",
       "    </tr>\n",
       "    <tr>\n",
       "      <th>11</th>\n",
       "      <td>Abbotsford</td>\n",
       "      <td>124 Yarra St</td>\n",
       "      <td>3</td>\n",
       "      <td>h</td>\n",
       "      <td>1876000.0</td>\n",
       "      <td>S</td>\n",
       "      <td>2016-07-05</td>\n",
       "      <td>2.5</td>\n",
       "      <td>3067.0</td>\n",
       "      <td>2.0</td>\n",
       "      <td>0.0</td>\n",
       "      <td>245.0</td>\n",
       "      <td>210.0</td>\n",
       "      <td>1910.0</td>\n",
       "      <td>Yarra City Council</td>\n",
       "      <td>-37.8024</td>\n",
       "      <td>144.9993</td>\n",
       "      <td>Northern Metropolitan</td>\n",
       "    </tr>\n",
       "    <tr>\n",
       "      <th>14</th>\n",
       "      <td>Abbotsford</td>\n",
       "      <td>98 Charles St</td>\n",
       "      <td>2</td>\n",
       "      <td>h</td>\n",
       "      <td>1636000.0</td>\n",
       "      <td>S</td>\n",
       "      <td>2016-08-10</td>\n",
       "      <td>2.5</td>\n",
       "      <td>3067.0</td>\n",
       "      <td>1.0</td>\n",
       "      <td>2.0</td>\n",
       "      <td>256.0</td>\n",
       "      <td>107.0</td>\n",
       "      <td>1890.0</td>\n",
       "      <td>Yarra City Council</td>\n",
       "      <td>-37.8060</td>\n",
       "      <td>144.9954</td>\n",
       "      <td>Northern Metropolitan</td>\n",
       "    </tr>\n",
       "  </tbody>\n",
       "</table>\n",
       "</div>"
      ],
      "text/plain": [
       "        suburb          address  bedrooms type      price method       date  \\\n",
       "2   Abbotsford  25 Bloomburg St         2    h  1035000.0      S 2016-04-02   \n",
       "4   Abbotsford     5 Charles St         3    h  1465000.0     SP 2017-04-03   \n",
       "6   Abbotsford      55a Park St         4    h  1600000.0     VB 2016-04-06   \n",
       "11  Abbotsford     124 Yarra St         3    h  1876000.0      S 2016-07-05   \n",
       "14  Abbotsford    98 Charles St         2    h  1636000.0      S 2016-08-10   \n",
       "\n",
       "    distance  postcode  bathrooms  car  land_size  building_area  year_built  \\\n",
       "2        2.5    3067.0        1.0  0.0      156.0           79.0      1900.0   \n",
       "4        2.5    3067.0        2.0  0.0      134.0          150.0      1900.0   \n",
       "6        2.5    3067.0        1.0  2.0      120.0          142.0      2014.0   \n",
       "11       2.5    3067.0        2.0  0.0      245.0          210.0      1910.0   \n",
       "14       2.5    3067.0        1.0  2.0      256.0          107.0      1890.0   \n",
       "\n",
       "          council_area  latitude  longtitude                 region  \n",
       "2   Yarra City Council  -37.8079    144.9934  Northern Metropolitan  \n",
       "4   Yarra City Council  -37.8093    144.9944  Northern Metropolitan  \n",
       "6   Yarra City Council  -37.8072    144.9941  Northern Metropolitan  \n",
       "11  Yarra City Council  -37.8024    144.9993  Northern Metropolitan  \n",
       "14  Yarra City Council  -37.8060    144.9954  Northern Metropolitan  "
      ]
     },
     "execution_count": 10,
     "metadata": {},
     "output_type": "execute_result"
    }
   ],
   "source": [
    "melb_with_price_and_build_area['date'] = pd.to_datetime(melb_with_price_and_build_area['date'])\n",
    "melb_with_price_and_build_area.head()"
   ]
  },
  {
   "cell_type": "markdown",
   "id": "d09122d7",
   "metadata": {},
   "source": [
    "#### 2A) After cleaning, was more money spent on houses or units overall? How many of each were sold?"
   ]
  },
  {
   "cell_type": "markdown",
   "id": "672e3196",
   "metadata": {},
   "source": [
    "**Action:** Select type and price"
   ]
  },
  {
   "cell_type": "code",
   "execution_count": 11,
   "id": "dad5500a",
   "metadata": {},
   "outputs": [
    {
     "data": {
      "text/html": [
       "<div>\n",
       "<style scoped>\n",
       "    .dataframe tbody tr th:only-of-type {\n",
       "        vertical-align: middle;\n",
       "    }\n",
       "\n",
       "    .dataframe tbody tr th {\n",
       "        vertical-align: top;\n",
       "    }\n",
       "\n",
       "    .dataframe thead th {\n",
       "        text-align: right;\n",
       "    }\n",
       "</style>\n",
       "<table border=\"1\" class=\"dataframe\">\n",
       "  <thead>\n",
       "    <tr style=\"text-align: right;\">\n",
       "      <th></th>\n",
       "      <th>price</th>\n",
       "    </tr>\n",
       "    <tr>\n",
       "      <th>type</th>\n",
       "      <th></th>\n",
       "    </tr>\n",
       "  </thead>\n",
       "  <tbody>\n",
       "    <tr>\n",
       "      <th>h</th>\n",
       "      <td>1218845.303401</td>\n",
       "    </tr>\n",
       "    <tr>\n",
       "      <th>t</th>\n",
       "      <td>911172.302072</td>\n",
       "    </tr>\n",
       "    <tr>\n",
       "      <th>u</th>\n",
       "      <td>592575.485507</td>\n",
       "    </tr>\n",
       "  </tbody>\n",
       "</table>\n",
       "</div>"
      ],
      "text/plain": [
       "              price\n",
       "type               \n",
       "h    1218845.303401\n",
       "t     911172.302072\n",
       "u     592575.485507"
      ]
     },
     "execution_count": 11,
     "metadata": {},
     "output_type": "execute_result"
    }
   ],
   "source": [
    "pd.set_option('float_format', '{:f}'.format)\n",
    "melb_type_price = melb_with_price_and_build_area[['type','price']].groupby(['type']).mean()\n",
    "melb_type_price"
   ]
  },
  {
   "cell_type": "markdown",
   "id": "6e9b2242",
   "metadata": {},
   "source": [
    "**Action:** Plot a bar chart to visualize the price by type"
   ]
  },
  {
   "cell_type": "code",
   "execution_count": 33,
   "id": "f2cdeb94",
   "metadata": {},
   "outputs": [
    {
     "data": {
      "text/plain": [
       "Text(0, 0.5, 'Price')"
      ]
     },
     "execution_count": 33,
     "metadata": {},
     "output_type": "execute_result"
    },
    {
     "data": {
      "text/plain": [
       "<Figure size 864x432 with 0 Axes>"
      ]
     },
     "metadata": {},
     "output_type": "display_data"
    },
    {
     "data": {
      "image/png": "[encoded data removed]",
      "text/plain": [
       "<Figure size 432x288 with 1 Axes>"
      ]
     },
     "metadata": {
      "needs_background": "light"
     },
     "output_type": "display_data"
    }
   ],
   "source": [
    "plt.figure(figsize=(12,6))\n",
    "melb_type_price.plot(kind='bar')\n",
    "plt.title('Price By Property Type', fontsize=15)\n",
    "plt.ylabel('Price')"
   ]
  },
  {
   "cell_type": "markdown",
   "id": "9a2b29ef",
   "metadata": {},
   "source": [
    "Average price of houses (h) were higher than units (u) and townhouses (t)."
   ]
  },
  {
   "cell_type": "markdown",
   "id": "73b27582",
   "metadata": {},
   "source": [
    "**Action:** Find out many of each type were sold:"
   ]
  },
  {
   "cell_type": "code",
   "execution_count": 52,
   "id": "69673607",
   "metadata": {},
   "outputs": [
    {
     "data": {
      "text/html": [
       "<div>\n",
       "<style scoped>\n",
       "    .dataframe tbody tr th:only-of-type {\n",
       "        vertical-align: middle;\n",
       "    }\n",
       "\n",
       "    .dataframe tbody tr th {\n",
       "        vertical-align: top;\n",
       "    }\n",
       "\n",
       "    .dataframe thead th {\n",
       "        text-align: right;\n",
       "    }\n",
       "</style>\n",
       "<table border=\"1\" class=\"dataframe\">\n",
       "  <thead>\n",
       "    <tr style=\"text-align: right;\">\n",
       "      <th></th>\n",
       "      <th>Quantity Sold</th>\n",
       "    </tr>\n",
       "    <tr>\n",
       "      <th>Property Type</th>\n",
       "      <th></th>\n",
       "    </tr>\n",
       "  </thead>\n",
       "  <tbody>\n",
       "    <tr>\n",
       "      <th>house</th>\n",
       "      <td>7940</td>\n",
       "    </tr>\n",
       "    <tr>\n",
       "      <th>units</th>\n",
       "      <td>1794</td>\n",
       "    </tr>\n",
       "    <tr>\n",
       "      <th>townhouses</th>\n",
       "      <td>917</td>\n",
       "    </tr>\n",
       "  </tbody>\n",
       "</table>\n",
       "</div>"
      ],
      "text/plain": [
       "               Quantity Sold\n",
       "Property Type               \n",
       "house                   7940\n",
       "units                   1794\n",
       "townhouses               917"
      ]
     },
     "execution_count": 52,
     "metadata": {},
     "output_type": "execute_result"
    }
   ],
   "source": [
    "# initialize list of sale count by property type\n",
    "data = [['house', melb_with_price_and_build_area.type.value_counts().h], ['units', melb_with_price_and_build_area.type.value_counts().u], ['townhouses', melb_with_price_and_build_area.type.value_counts().t]]\n",
    "  \n",
    "# Create the DataFrame\n",
    "property_type_sold = pd.DataFrame(data, columns=['Property Type', 'Quantity Sold']).set_index('Property Type')\n",
    "  \n",
    "# print dataframe.\n",
    "property_type_sold"
   ]
  },
  {
   "cell_type": "code",
   "execution_count": 54,
   "id": "7180defc",
   "metadata": {},
   "outputs": [
    {
     "name": "stdout",
     "output_type": "stream",
     "text": [
      "Number of houses sold: 7940\n",
      "Number of units sold: 1794\n",
      "Number of townhouses sold: 917\n"
     ]
    },
    {
     "data": {
      "text/plain": [
       "<Figure size 864x432 with 0 Axes>"
      ]
     },
     "metadata": {},
     "output_type": "display_data"
    },
    {
     "data": {
      "image/png": "[encoded data removed]",
      "text/plain": [
       "<Figure size 432x288 with 1 Axes>"
      ]
     },
     "metadata": {
      "needs_background": "light"
     },
     "output_type": "display_data"
    }
   ],
   "source": [
    "plt.figure(figsize=(12,6))\n",
    "property_type_sold.plot(kind='bar')\n",
    "plt.title('Quantity Sold By Property Type', fontsize=15)\n",
    "plt.ylabel('Quantity Sold')\n",
    "\n",
    "print('Number of houses sold:',melb_with_price_and_build_area.type.value_counts().h)\n",
    "print('Number of units sold:',melb_with_price_and_build_area.type.value_counts().u)\n",
    "print('Number of townhouses sold:',melb_with_price_and_build_area.type.value_counts().t)"
   ]
  },
  {
   "cell_type": "markdown",
   "id": "c5013f16",
   "metadata": {},
   "source": [
    "- Number of houses sold: 7940\n",
    "- Number of units sold: 1794\n",
    "- Number of townhouses sold: 917"
   ]
  },
  {
   "cell_type": "markdown",
   "id": "f3f79952",
   "metadata": {},
   "source": [
    "#### 2B) Plot the relationship between building area and price, is this what you would expect?"
   ]
  },
  {
   "cell_type": "markdown",
   "id": "131bce27",
   "metadata": {},
   "source": [
    "**Action:** Plot a lmplot to visualize Building Area vs Price"
   ]
  },
  {
   "cell_type": "code",
   "execution_count": 13,
   "id": "f2dc7b51",
   "metadata": {},
   "outputs": [
    {
     "data": {
      "text/plain": [
       "Text(0.5, 1.0, 'Building Area vs Price')"
      ]
     },
     "execution_count": 13,
     "metadata": {},
     "output_type": "execute_result"
    },
    {
     "data": {
      "image/png": "[encoded data removed]",
      "text/plain": [
       "<Figure size 360x360 with 1 Axes>"
      ]
     },
     "metadata": {
      "needs_background": "light"
     },
     "output_type": "display_data"
    }
   ],
   "source": [
    "import seaborn as sns\n",
    "sns.lmplot(x='building_area', y='price', data=melb_with_price_and_build_area)\n",
    "\n",
    "plt.xlim(0, None)\n",
    "plt.ylim(0, None)\n",
    "plt.title(\"Building Area vs Price\")"
   ]
  },
  {
   "cell_type": "markdown",
   "id": "4993f80f",
   "metadata": {},
   "source": [
    "As I would expect - The larger the building area, the larger the price of the property"
   ]
  },
  {
   "cell_type": "markdown",
   "id": "10a18c32",
   "metadata": {},
   "source": [
    "#### 2C) If you limit your analysis to only 2 bedroom properties, are units or houses more expensive? "
   ]
  },
  {
   "cell_type": "markdown",
   "id": "a35e37d0",
   "metadata": {},
   "source": [
    "**Action:** Plot and interpret the distribution of prices for each"
   ]
  },
  {
   "cell_type": "markdown",
   "id": "5ffda101",
   "metadata": {},
   "source": [
    "**Action:** Create dataframe to only include 2 bedroom properties:"
   ]
  },
  {
   "cell_type": "code",
   "execution_count": 14,
   "id": "f1806896",
   "metadata": {},
   "outputs": [
    {
     "data": {
      "text/html": [
       "<div>\n",
       "<style scoped>\n",
       "    .dataframe tbody tr th:only-of-type {\n",
       "        vertical-align: middle;\n",
       "    }\n",
       "\n",
       "    .dataframe tbody tr th {\n",
       "        vertical-align: top;\n",
       "    }\n",
       "\n",
       "    .dataframe thead th {\n",
       "        text-align: right;\n",
       "    }\n",
       "</style>\n",
       "<table border=\"1\" class=\"dataframe\">\n",
       "  <thead>\n",
       "    <tr style=\"text-align: right;\">\n",
       "      <th></th>\n",
       "      <th>suburb</th>\n",
       "      <th>address</th>\n",
       "      <th>bedrooms</th>\n",
       "      <th>type</th>\n",
       "      <th>price</th>\n",
       "      <th>method</th>\n",
       "      <th>date</th>\n",
       "      <th>distance</th>\n",
       "      <th>postcode</th>\n",
       "      <th>bathrooms</th>\n",
       "      <th>car</th>\n",
       "      <th>land_size</th>\n",
       "      <th>building_area</th>\n",
       "      <th>year_built</th>\n",
       "      <th>council_area</th>\n",
       "      <th>latitude</th>\n",
       "      <th>longtitude</th>\n",
       "      <th>region</th>\n",
       "    </tr>\n",
       "  </thead>\n",
       "  <tbody>\n",
       "    <tr>\n",
       "      <th>2</th>\n",
       "      <td>Abbotsford</td>\n",
       "      <td>25 Bloomburg St</td>\n",
       "      <td>2</td>\n",
       "      <td>h</td>\n",
       "      <td>1035000.000000</td>\n",
       "      <td>S</td>\n",
       "      <td>2016-04-02</td>\n",
       "      <td>2.500000</td>\n",
       "      <td>3067.000000</td>\n",
       "      <td>1.000000</td>\n",
       "      <td>0.000000</td>\n",
       "      <td>156.000000</td>\n",
       "      <td>79.000000</td>\n",
       "      <td>1900.000000</td>\n",
       "      <td>Yarra City Council</td>\n",
       "      <td>-37.807900</td>\n",
       "      <td>144.993400</td>\n",
       "      <td>Northern Metropolitan</td>\n",
       "    </tr>\n",
       "    <tr>\n",
       "      <th>14</th>\n",
       "      <td>Abbotsford</td>\n",
       "      <td>98 Charles St</td>\n",
       "      <td>2</td>\n",
       "      <td>h</td>\n",
       "      <td>1636000.000000</td>\n",
       "      <td>S</td>\n",
       "      <td>2016-08-10</td>\n",
       "      <td>2.500000</td>\n",
       "      <td>3067.000000</td>\n",
       "      <td>1.000000</td>\n",
       "      <td>2.000000</td>\n",
       "      <td>256.000000</td>\n",
       "      <td>107.000000</td>\n",
       "      <td>1890.000000</td>\n",
       "      <td>Yarra City Council</td>\n",
       "      <td>-37.806000</td>\n",
       "      <td>144.995400</td>\n",
       "      <td>Northern Metropolitan</td>\n",
       "    </tr>\n",
       "    <tr>\n",
       "      <th>18</th>\n",
       "      <td>Abbotsford</td>\n",
       "      <td>10 Valiant St</td>\n",
       "      <td>2</td>\n",
       "      <td>h</td>\n",
       "      <td>1097000.000000</td>\n",
       "      <td>S</td>\n",
       "      <td>2016-08-10</td>\n",
       "      <td>2.500000</td>\n",
       "      <td>3067.000000</td>\n",
       "      <td>1.000000</td>\n",
       "      <td>2.000000</td>\n",
       "      <td>220.000000</td>\n",
       "      <td>75.000000</td>\n",
       "      <td>1900.000000</td>\n",
       "      <td>Yarra City Council</td>\n",
       "      <td>-37.801000</td>\n",
       "      <td>144.998900</td>\n",
       "      <td>Northern Metropolitan</td>\n",
       "    </tr>\n",
       "    <tr>\n",
       "      <th>25</th>\n",
       "      <td>Abbotsford</td>\n",
       "      <td>123/56 Nicholson St</td>\n",
       "      <td>2</td>\n",
       "      <td>u</td>\n",
       "      <td>750000.000000</td>\n",
       "      <td>S</td>\n",
       "      <td>2016-12-11</td>\n",
       "      <td>2.500000</td>\n",
       "      <td>3067.000000</td>\n",
       "      <td>2.000000</td>\n",
       "      <td>1.000000</td>\n",
       "      <td>0.000000</td>\n",
       "      <td>94.000000</td>\n",
       "      <td>2009.000000</td>\n",
       "      <td>Yarra City Council</td>\n",
       "      <td>-37.807800</td>\n",
       "      <td>144.996500</td>\n",
       "      <td>Northern Metropolitan</td>\n",
       "    </tr>\n",
       "    <tr>\n",
       "      <th>30</th>\n",
       "      <td>Abbotsford</td>\n",
       "      <td>16 William St</td>\n",
       "      <td>2</td>\n",
       "      <td>h</td>\n",
       "      <td>1310000.000000</td>\n",
       "      <td>S</td>\n",
       "      <td>2016-10-15</td>\n",
       "      <td>2.500000</td>\n",
       "      <td>3067.000000</td>\n",
       "      <td>1.000000</td>\n",
       "      <td>2.000000</td>\n",
       "      <td>238.000000</td>\n",
       "      <td>97.000000</td>\n",
       "      <td>1890.000000</td>\n",
       "      <td>Yarra City Council</td>\n",
       "      <td>-37.809000</td>\n",
       "      <td>144.997600</td>\n",
       "      <td>Northern Metropolitan</td>\n",
       "    </tr>\n",
       "  </tbody>\n",
       "</table>\n",
       "</div>"
      ],
      "text/plain": [
       "        suburb              address  bedrooms type          price method  \\\n",
       "2   Abbotsford      25 Bloomburg St         2    h 1035000.000000      S   \n",
       "14  Abbotsford        98 Charles St         2    h 1636000.000000      S   \n",
       "18  Abbotsford        10 Valiant St         2    h 1097000.000000      S   \n",
       "25  Abbotsford  123/56 Nicholson St         2    u  750000.000000      S   \n",
       "30  Abbotsford        16 William St         2    h 1310000.000000      S   \n",
       "\n",
       "         date  distance    postcode  bathrooms      car  land_size  \\\n",
       "2  2016-04-02  2.500000 3067.000000   1.000000 0.000000 156.000000   \n",
       "14 2016-08-10  2.500000 3067.000000   1.000000 2.000000 256.000000   \n",
       "18 2016-08-10  2.500000 3067.000000   1.000000 2.000000 220.000000   \n",
       "25 2016-12-11  2.500000 3067.000000   2.000000 1.000000   0.000000   \n",
       "30 2016-10-15  2.500000 3067.000000   1.000000 2.000000 238.000000   \n",
       "\n",
       "    building_area  year_built        council_area   latitude  longtitude  \\\n",
       "2       79.000000 1900.000000  Yarra City Council -37.807900  144.993400   \n",
       "14     107.000000 1890.000000  Yarra City Council -37.806000  144.995400   \n",
       "18      75.000000 1900.000000  Yarra City Council -37.801000  144.998900   \n",
       "25      94.000000 2009.000000  Yarra City Council -37.807800  144.996500   \n",
       "30      97.000000 1890.000000  Yarra City Council -37.809000  144.997600   \n",
       "\n",
       "                   region  \n",
       "2   Northern Metropolitan  \n",
       "14  Northern Metropolitan  \n",
       "18  Northern Metropolitan  \n",
       "25  Northern Metropolitan  \n",
       "30  Northern Metropolitan  "
      ]
     },
     "execution_count": 14,
     "metadata": {},
     "output_type": "execute_result"
    }
   ],
   "source": [
    "melb_with_price_and_build_area_2_bed = melb_with_price_and_build_area[melb_with_price_and_build_area['bedrooms'] == 2]\n",
    "melb_with_price_and_build_area_2_bed.head()"
   ]
  },
  {
   "cell_type": "markdown",
   "id": "1d71fe9e",
   "metadata": {},
   "source": [
    "**Action:** Select type and price"
   ]
  },
  {
   "cell_type": "code",
   "execution_count": 15,
   "id": "4eb29df3",
   "metadata": {},
   "outputs": [
    {
     "data": {
      "text/html": [
       "<div>\n",
       "<style scoped>\n",
       "    .dataframe tbody tr th:only-of-type {\n",
       "        vertical-align: middle;\n",
       "    }\n",
       "\n",
       "    .dataframe tbody tr th {\n",
       "        vertical-align: top;\n",
       "    }\n",
       "\n",
       "    .dataframe thead th {\n",
       "        text-align: right;\n",
       "    }\n",
       "</style>\n",
       "<table border=\"1\" class=\"dataframe\">\n",
       "  <thead>\n",
       "    <tr style=\"text-align: right;\">\n",
       "      <th></th>\n",
       "      <th>price</th>\n",
       "    </tr>\n",
       "    <tr>\n",
       "      <th>type</th>\n",
       "      <th></th>\n",
       "    </tr>\n",
       "  </thead>\n",
       "  <tbody>\n",
       "    <tr>\n",
       "      <th>h</th>\n",
       "      <td>973528.993103</td>\n",
       "    </tr>\n",
       "    <tr>\n",
       "      <th>t</th>\n",
       "      <td>694386.842105</td>\n",
       "    </tr>\n",
       "    <tr>\n",
       "      <th>u</th>\n",
       "      <td>593633.978147</td>\n",
       "    </tr>\n",
       "  </tbody>\n",
       "</table>\n",
       "</div>"
      ],
      "text/plain": [
       "             price\n",
       "type              \n",
       "h    973528.993103\n",
       "t    694386.842105\n",
       "u    593633.978147"
      ]
     },
     "execution_count": 15,
     "metadata": {},
     "output_type": "execute_result"
    }
   ],
   "source": [
    "pd.set_option('float_format', '{:f}'.format)\n",
    "melb_with_price_and_build_area_2_bed_mean = melb_with_price_and_build_area_2_bed[['type','price']].groupby(['type']).mean()\n",
    "melb_with_price_and_build_area_2_bed_mean"
   ]
  },
  {
   "cell_type": "markdown",
   "id": "8ac274d3",
   "metadata": {},
   "source": [
    "For 2 bedrooms, the average price of houses were also higher than units and townhouses."
   ]
  },
  {
   "cell_type": "markdown",
   "id": "ae6e2719",
   "metadata": {},
   "source": [
    "**Action:** Plot and interpret the distribution of prices for each:"
   ]
  },
  {
   "cell_type": "code",
   "execution_count": 16,
   "id": "62938285",
   "metadata": {},
   "outputs": [
    {
     "data": {
      "text/plain": [
       "Text(0.5, 1.0, 'Distribution Of Price By Type')"
      ]
     },
     "execution_count": 16,
     "metadata": {},
     "output_type": "execute_result"
    },
    {
     "data": {
      "image/png": "[encoded data removed]",
      "text/plain": [
       "<Figure size 432x288 with 1 Axes>"
      ]
     },
     "metadata": {
      "needs_background": "light"
     },
     "output_type": "display_data"
    }
   ],
   "source": [
    "sns.violinplot(x='type', y='price', data=melb_with_price_and_build_area_2_bed, s=2)\n",
    "plt.title('Distribution Of Price By Type')"
   ]
  },
  {
   "cell_type": "markdown",
   "id": "ecc3aff4",
   "metadata": {},
   "source": [
    "Houses have a wider range of prices, with a small number at the very top of the scale. Majority of units are within the average range, with a small number above the range. Majority of townhouses are within the average range, with a very small number above the range."
   ]
  },
  {
   "cell_type": "markdown",
   "id": "c9b3c29a",
   "metadata": {},
   "source": [
    "#### 2D) Split your data into separate dataframes for 2016, 2017 and 2018. "
   ]
  },
  {
   "cell_type": "markdown",
   "id": "2282e045",
   "metadata": {},
   "source": [
    "**Action:** Create new dataframes for 2016, 2017 and 2018 data"
   ]
  },
  {
   "cell_type": "code",
   "execution_count": 17,
   "id": "5baf8e70",
   "metadata": {},
   "outputs": [],
   "source": [
    "melb_with_price_and_build_area_2016 = melb_with_price_and_build_area[(melb_with_price_and_build_area['date'] > '2016-01-01') & (melb_with_price_and_build_area['date'] < '2016-12-31')]\n",
    "melb_with_price_and_build_area_2017 = melb_with_price_and_build_area[(melb_with_price_and_build_area['date'] > '2017-01-01') & (melb_with_price_and_build_area['date'] < '2017-12-31')]\n",
    "melb_with_price_and_build_area_2018 = melb_with_price_and_build_area[(melb_with_price_and_build_area['date'] > '2018-01-01') & (melb_with_price_and_build_area['date'] < '2018-12-31')]"
   ]
  },
  {
   "cell_type": "markdown",
   "id": "a96f12b6",
   "metadata": {},
   "source": [
    "**Action:** Calculate the average prices of all homes across the 3 years:"
   ]
  },
  {
   "cell_type": "code",
   "execution_count": 18,
   "id": "be2f8bb0",
   "metadata": {},
   "outputs": [
    {
     "name": "stdout",
     "output_type": "stream",
     "text": [
      "Average prices in 2016:               price\n",
      "type               \n",
      "h    1334879.540302\n",
      "t     848017.611940\n",
      "u     577570.995490\n",
      "Average prices in 2017:               price\n",
      "type               \n",
      "h    1180656.941069\n",
      "t     955449.612840\n",
      "u     607993.245536\n",
      "Average prices in 2018:               price\n",
      "type               \n",
      "h    1125504.202923\n",
      "t     887617.647059\n",
      "u     546636.363636\n"
     ]
    }
   ],
   "source": [
    "melb_with_price_and_build_area_2016 = melb_with_price_and_build_area_2016[['type','price']].groupby(['type']).mean()\n",
    "melb_with_price_and_build_area_2017= melb_with_price_and_build_area_2017[['type','price']].groupby(['type']).mean()\n",
    "melb_with_price_and_build_area_2018= melb_with_price_and_build_area_2018[['type','price']].groupby(['type']).mean()"
   ]
  },
  {
   "cell_type": "markdown",
   "id": "360b22e5",
   "metadata": {},
   "source": [
    "**Action:** Add year as a new column in the dataframes"
   ]
  },
  {
   "cell_type": "code",
   "execution_count": 77,
   "id": "ef19469b",
   "metadata": {},
   "outputs": [],
   "source": [
    "# Add column for year for 2016\n",
    "melb_with_price_and_build_area_2016['Year'] = '2016'\n",
    "\n",
    "# Add column for year for 2017\n",
    "melb_with_price_and_build_area_2017['Year'] = '2017'\n",
    "\n",
    "# Add column for year for 2018\n",
    "melb_with_price_and_build_area_2018['Year'] = '2018'"
   ]
  },
  {
   "cell_type": "markdown",
   "id": "7cf940e3",
   "metadata": {},
   "source": [
    "**Action:** Union all dataframes into a single dataframe"
   ]
  },
  {
   "cell_type": "code",
   "execution_count": 120,
   "id": "2572055d",
   "metadata": {},
   "outputs": [
    {
     "data": {
      "text/html": [
       "<div>\n",
       "<style scoped>\n",
       "    .dataframe tbody tr th:only-of-type {\n",
       "        vertical-align: middle;\n",
       "    }\n",
       "\n",
       "    .dataframe tbody tr th {\n",
       "        vertical-align: top;\n",
       "    }\n",
       "\n",
       "    .dataframe thead th {\n",
       "        text-align: right;\n",
       "    }\n",
       "</style>\n",
       "<table border=\"1\" class=\"dataframe\">\n",
       "  <thead>\n",
       "    <tr style=\"text-align: right;\">\n",
       "      <th></th>\n",
       "      <th>price</th>\n",
       "      <th>Year</th>\n",
       "    </tr>\n",
       "    <tr>\n",
       "      <th>type</th>\n",
       "      <th></th>\n",
       "      <th></th>\n",
       "    </tr>\n",
       "  </thead>\n",
       "  <tbody>\n",
       "    <tr>\n",
       "      <th>h</th>\n",
       "      <td>1334879.540302</td>\n",
       "      <td>2016</td>\n",
       "    </tr>\n",
       "    <tr>\n",
       "      <th>t</th>\n",
       "      <td>848017.611940</td>\n",
       "      <td>2016</td>\n",
       "    </tr>\n",
       "    <tr>\n",
       "      <th>u</th>\n",
       "      <td>577570.995490</td>\n",
       "      <td>2016</td>\n",
       "    </tr>\n",
       "    <tr>\n",
       "      <th>h</th>\n",
       "      <td>1180656.941069</td>\n",
       "      <td>2017</td>\n",
       "    </tr>\n",
       "    <tr>\n",
       "      <th>t</th>\n",
       "      <td>955449.612840</td>\n",
       "      <td>2017</td>\n",
       "    </tr>\n",
       "    <tr>\n",
       "      <th>u</th>\n",
       "      <td>607993.245536</td>\n",
       "      <td>2017</td>\n",
       "    </tr>\n",
       "    <tr>\n",
       "      <th>h</th>\n",
       "      <td>1125504.202923</td>\n",
       "      <td>2018</td>\n",
       "    </tr>\n",
       "    <tr>\n",
       "      <th>t</th>\n",
       "      <td>887617.647059</td>\n",
       "      <td>2018</td>\n",
       "    </tr>\n",
       "    <tr>\n",
       "      <th>u</th>\n",
       "      <td>546636.363636</td>\n",
       "      <td>2018</td>\n",
       "    </tr>\n",
       "  </tbody>\n",
       "</table>\n",
       "</div>"
      ],
      "text/plain": [
       "              price  Year\n",
       "type                     \n",
       "h    1334879.540302  2016\n",
       "t     848017.611940  2016\n",
       "u     577570.995490  2016\n",
       "h    1180656.941069  2017\n",
       "t     955449.612840  2017\n",
       "u     607993.245536  2017\n",
       "h    1125504.202923  2018\n",
       "t     887617.647059  2018\n",
       "u     546636.363636  2018"
      ]
     },
     "execution_count": 120,
     "metadata": {},
     "output_type": "execute_result"
    }
   ],
   "source": [
    "type_price_year = pd.concat([melb_with_price_and_build_area_2016, melb_with_price_and_build_area_2017,melb_with_price_and_build_area_2018])\n",
    "type_price_year"
   ]
  },
  {
   "cell_type": "markdown",
   "id": "35767d27",
   "metadata": {},
   "source": [
    "**Action:** Add a column for property type"
   ]
  },
  {
   "cell_type": "code",
   "execution_count": 121,
   "id": "02ab3984",
   "metadata": {},
   "outputs": [
    {
     "data": {
      "text/html": [
       "<div>\n",
       "<style scoped>\n",
       "    .dataframe tbody tr th:only-of-type {\n",
       "        vertical-align: middle;\n",
       "    }\n",
       "\n",
       "    .dataframe tbody tr th {\n",
       "        vertical-align: top;\n",
       "    }\n",
       "\n",
       "    .dataframe thead th {\n",
       "        text-align: right;\n",
       "    }\n",
       "</style>\n",
       "<table border=\"1\" class=\"dataframe\">\n",
       "  <thead>\n",
       "    <tr style=\"text-align: right;\">\n",
       "      <th></th>\n",
       "      <th>price</th>\n",
       "      <th>Year</th>\n",
       "      <th>property_type</th>\n",
       "    </tr>\n",
       "    <tr>\n",
       "      <th>type</th>\n",
       "      <th></th>\n",
       "      <th></th>\n",
       "      <th></th>\n",
       "    </tr>\n",
       "  </thead>\n",
       "  <tbody>\n",
       "    <tr>\n",
       "      <th>h</th>\n",
       "      <td>1334879.540302</td>\n",
       "      <td>2016</td>\n",
       "      <td>h</td>\n",
       "    </tr>\n",
       "    <tr>\n",
       "      <th>t</th>\n",
       "      <td>848017.611940</td>\n",
       "      <td>2016</td>\n",
       "      <td>t</td>\n",
       "    </tr>\n",
       "    <tr>\n",
       "      <th>u</th>\n",
       "      <td>577570.995490</td>\n",
       "      <td>2016</td>\n",
       "      <td>u</td>\n",
       "    </tr>\n",
       "    <tr>\n",
       "      <th>h</th>\n",
       "      <td>1180656.941069</td>\n",
       "      <td>2017</td>\n",
       "      <td>h</td>\n",
       "    </tr>\n",
       "    <tr>\n",
       "      <th>t</th>\n",
       "      <td>955449.612840</td>\n",
       "      <td>2017</td>\n",
       "      <td>t</td>\n",
       "    </tr>\n",
       "    <tr>\n",
       "      <th>u</th>\n",
       "      <td>607993.245536</td>\n",
       "      <td>2017</td>\n",
       "      <td>u</td>\n",
       "    </tr>\n",
       "    <tr>\n",
       "      <th>h</th>\n",
       "      <td>1125504.202923</td>\n",
       "      <td>2018</td>\n",
       "      <td>h</td>\n",
       "    </tr>\n",
       "    <tr>\n",
       "      <th>t</th>\n",
       "      <td>887617.647059</td>\n",
       "      <td>2018</td>\n",
       "      <td>t</td>\n",
       "    </tr>\n",
       "    <tr>\n",
       "      <th>u</th>\n",
       "      <td>546636.363636</td>\n",
       "      <td>2018</td>\n",
       "      <td>u</td>\n",
       "    </tr>\n",
       "  </tbody>\n",
       "</table>\n",
       "</div>"
      ],
      "text/plain": [
       "              price  Year property_type\n",
       "type                                   \n",
       "h    1334879.540302  2016             h\n",
       "t     848017.611940  2016             t\n",
       "u     577570.995490  2016             u\n",
       "h    1180656.941069  2017             h\n",
       "t     955449.612840  2017             t\n",
       "u     607993.245536  2017             u\n",
       "h    1125504.202923  2018             h\n",
       "t     887617.647059  2018             t\n",
       "u     546636.363636  2018             u"
      ]
     },
     "execution_count": 121,
     "metadata": {},
     "output_type": "execute_result"
    }
   ],
   "source": [
    "type_price_year['property_type'] = type_price_year.index\n",
    "type_price_year"
   ]
  },
  {
   "cell_type": "markdown",
   "id": "90b7928c",
   "metadata": {},
   "source": [
    "**Action:** Plot a chart to visualize the property prices by type, over the years"
   ]
  },
  {
   "cell_type": "code",
   "execution_count": 124,
   "id": "a81bcd3e",
   "metadata": {},
   "outputs": [
    {
     "data": {
      "text/plain": [
       "Text(0.5, 1.0, 'Price By Property Type - From 2016 to 2018')"
      ]
     },
     "execution_count": 124,
     "metadata": {},
     "output_type": "execute_result"
    },
    {
     "data": {
      "image/png": "[encoded data removed]",
      "text/plain": [
       "<Figure size 864x432 with 1 Axes>"
      ]
     },
     "metadata": {
      "needs_background": "light"
     },
     "output_type": "display_data"
    }
   ],
   "source": [
    "plt.figure(figsize=(12,6))\n",
    "sns.barplot(x=\"Year\", y=\"price\", data=type_price_year, hue='property_type')\n",
    "plt.title(\"Price By Property Type - From 2016 to 2018\", fontsize=15)"
   ]
  },
  {
   "cell_type": "markdown",
   "id": "0df858a1",
   "metadata": {},
   "source": [
    "#### Analysis - Is the average price of a house going up or down in the period?\n",
    "\n",
    "- The average price of a house (h) has gone down over the period 2016 to 2018"
   ]
  },
  {
   "cell_type": "markdown",
   "id": "b44d940f",
   "metadata": {},
   "source": [
    "#### Analysis - Is the trend the same for units?\n",
    "\n",
    "- The trend was not the same for units (u) - where it went up in 2017 and then down in 2018 to a level even lower than the 2016 average."
   ]
  },
  {
   "cell_type": "markdown",
   "id": "d9e4f38d",
   "metadata": {},
   "source": [
    "## 3) Challenge\n",
    "\n",
    "Find the suburbs that have the highest and lowest proportion of sales were units. If you look them up on a map, are these suburbs where you expect them to be? Why?"
   ]
  },
  {
   "cell_type": "markdown",
   "id": "1f2ea2ae",
   "metadata": {},
   "source": [
    "**Action:** Create new dataframe with columns suburb and type"
   ]
  },
  {
   "cell_type": "code",
   "execution_count": 61,
   "id": "9d171edb",
   "metadata": {},
   "outputs": [],
   "source": [
    "melb_suburb_type = melb_with_price_and_build_area[['suburb', 'type']]\n",
    "melb_suburb_type = pd.DataFrame(melb_suburb_type)"
   ]
  },
  {
   "cell_type": "markdown",
   "id": "b88592e4",
   "metadata": {},
   "source": [
    "#### Total count of sales:"
   ]
  },
  {
   "cell_type": "code",
   "execution_count": 62,
   "id": "1d33bd9d",
   "metadata": {},
   "outputs": [
    {
     "data": {
      "text/plain": [
       "10651"
      ]
     },
     "execution_count": 62,
     "metadata": {},
     "output_type": "execute_result"
    }
   ],
   "source": [
    "total_count = melb_suburb_type.type.count()\n",
    "total_count"
   ]
  },
  {
   "cell_type": "markdown",
   "id": "d78d1a09",
   "metadata": {},
   "source": [
    "**Action:** Calculate the proportion of total count:"
   ]
  },
  {
   "cell_type": "code",
   "execution_count": 63,
   "id": "89cd1e4b",
   "metadata": {},
   "outputs": [
    {
     "data": {
      "text/plain": [
       "9.388789784996713e-05"
      ]
     },
     "execution_count": 63,
     "metadata": {},
     "output_type": "execute_result"
    }
   ],
   "source": [
    "proportion = 1 / total_count\n",
    "proportion"
   ]
  },
  {
   "cell_type": "markdown",
   "id": "46499000",
   "metadata": {},
   "source": [
    "**Action:** Add column to dataframe for proportion:"
   ]
  },
  {
   "cell_type": "code",
   "execution_count": 64,
   "id": "f785a95b",
   "metadata": {},
   "outputs": [
    {
     "data": {
      "text/html": [
       "<div>\n",
       "<style scoped>\n",
       "    .dataframe tbody tr th:only-of-type {\n",
       "        vertical-align: middle;\n",
       "    }\n",
       "\n",
       "    .dataframe tbody tr th {\n",
       "        vertical-align: top;\n",
       "    }\n",
       "\n",
       "    .dataframe thead th {\n",
       "        text-align: right;\n",
       "    }\n",
       "</style>\n",
       "<table border=\"1\" class=\"dataframe\">\n",
       "  <thead>\n",
       "    <tr style=\"text-align: right;\">\n",
       "      <th></th>\n",
       "      <th></th>\n",
       "      <th>proportion</th>\n",
       "    </tr>\n",
       "    <tr>\n",
       "      <th>suburb</th>\n",
       "      <th>type</th>\n",
       "      <th></th>\n",
       "    </tr>\n",
       "  </thead>\n",
       "  <tbody>\n",
       "    <tr>\n",
       "      <th rowspan=\"2\" valign=\"top\">Abbotsford</th>\n",
       "      <th>h</th>\n",
       "      <td>0.003474</td>\n",
       "    </tr>\n",
       "    <tr>\n",
       "      <th>u</th>\n",
       "      <td>0.000939</td>\n",
       "    </tr>\n",
       "    <tr>\n",
       "      <th rowspan=\"3\" valign=\"top\">Aberfeldie</th>\n",
       "      <th>h</th>\n",
       "      <td>0.002253</td>\n",
       "    </tr>\n",
       "    <tr>\n",
       "      <th>t</th>\n",
       "      <td>0.000282</td>\n",
       "    </tr>\n",
       "    <tr>\n",
       "      <th>u</th>\n",
       "      <td>0.000376</td>\n",
       "    </tr>\n",
       "  </tbody>\n",
       "</table>\n",
       "</div>"
      ],
      "text/plain": [
       "                 proportion\n",
       "suburb     type            \n",
       "Abbotsford h       0.003474\n",
       "           u       0.000939\n",
       "Aberfeldie h       0.002253\n",
       "           t       0.000282\n",
       "           u       0.000376"
      ]
     },
     "execution_count": 64,
     "metadata": {},
     "output_type": "execute_result"
    }
   ],
   "source": [
    "melb_suburb_type['proportion'] = proportion\n",
    "melb_suburb_type_proportion = melb_suburb_type[['suburb','type', 'proportion']].groupby(['suburb','type']).sum()\n",
    "melb_suburb_type_proportion.head()"
   ]
  },
  {
   "cell_type": "markdown",
   "id": "9df69678",
   "metadata": {},
   "source": [
    "**Action:** Unstack the dataframe"
   ]
  },
  {
   "cell_type": "code",
   "execution_count": 65,
   "id": "6dbecbe5",
   "metadata": {},
   "outputs": [
    {
     "data": {
      "text/html": [
       "<div>\n",
       "<style scoped>\n",
       "    .dataframe tbody tr th:only-of-type {\n",
       "        vertical-align: middle;\n",
       "    }\n",
       "\n",
       "    .dataframe tbody tr th {\n",
       "        vertical-align: top;\n",
       "    }\n",
       "\n",
       "    .dataframe thead tr th {\n",
       "        text-align: left;\n",
       "    }\n",
       "\n",
       "    .dataframe thead tr:last-of-type th {\n",
       "        text-align: right;\n",
       "    }\n",
       "</style>\n",
       "<table border=\"1\" class=\"dataframe\">\n",
       "  <thead>\n",
       "    <tr>\n",
       "      <th></th>\n",
       "      <th colspan=\"3\" halign=\"left\">proportion</th>\n",
       "    </tr>\n",
       "    <tr>\n",
       "      <th>type</th>\n",
       "      <th>h</th>\n",
       "      <th>t</th>\n",
       "      <th>u</th>\n",
       "    </tr>\n",
       "    <tr>\n",
       "      <th>suburb</th>\n",
       "      <th></th>\n",
       "      <th></th>\n",
       "      <th></th>\n",
       "    </tr>\n",
       "  </thead>\n",
       "  <tbody>\n",
       "    <tr>\n",
       "      <th>Abbotsford</th>\n",
       "      <td>0.003474</td>\n",
       "      <td>NaN</td>\n",
       "      <td>0.000939</td>\n",
       "    </tr>\n",
       "    <tr>\n",
       "      <th>Aberfeldie</th>\n",
       "      <td>0.002253</td>\n",
       "      <td>0.000282</td>\n",
       "      <td>0.000376</td>\n",
       "    </tr>\n",
       "    <tr>\n",
       "      <th>Airport West</th>\n",
       "      <td>0.003568</td>\n",
       "      <td>0.000939</td>\n",
       "      <td>0.000751</td>\n",
       "    </tr>\n",
       "    <tr>\n",
       "      <th>Albanvale</th>\n",
       "      <td>0.000469</td>\n",
       "      <td>NaN</td>\n",
       "      <td>NaN</td>\n",
       "    </tr>\n",
       "    <tr>\n",
       "      <th>Albert Park</th>\n",
       "      <td>0.003568</td>\n",
       "      <td>NaN</td>\n",
       "      <td>0.000282</td>\n",
       "    </tr>\n",
       "    <tr>\n",
       "      <th>...</th>\n",
       "      <td>...</td>\n",
       "      <td>...</td>\n",
       "      <td>...</td>\n",
       "    </tr>\n",
       "    <tr>\n",
       "      <th>Wonga Park</th>\n",
       "      <td>0.000188</td>\n",
       "      <td>NaN</td>\n",
       "      <td>NaN</td>\n",
       "    </tr>\n",
       "    <tr>\n",
       "      <th>Wyndham Vale</th>\n",
       "      <td>0.001596</td>\n",
       "      <td>NaN</td>\n",
       "      <td>NaN</td>\n",
       "    </tr>\n",
       "    <tr>\n",
       "      <th>Yallambie</th>\n",
       "      <td>0.001784</td>\n",
       "      <td>NaN</td>\n",
       "      <td>NaN</td>\n",
       "    </tr>\n",
       "    <tr>\n",
       "      <th>Yarra Glen</th>\n",
       "      <td>0.000094</td>\n",
       "      <td>NaN</td>\n",
       "      <td>NaN</td>\n",
       "    </tr>\n",
       "    <tr>\n",
       "      <th>Yarraville</th>\n",
       "      <td>0.010140</td>\n",
       "      <td>0.000751</td>\n",
       "      <td>0.001127</td>\n",
       "    </tr>\n",
       "  </tbody>\n",
       "</table>\n",
       "<p>324 rows × 3 columns</p>\n",
       "</div>"
      ],
      "text/plain": [
       "             proportion                  \n",
       "type                  h        t        u\n",
       "suburb                                   \n",
       "Abbotsford     0.003474      NaN 0.000939\n",
       "Aberfeldie     0.002253 0.000282 0.000376\n",
       "Airport West   0.003568 0.000939 0.000751\n",
       "Albanvale      0.000469      NaN      NaN\n",
       "Albert Park    0.003568      NaN 0.000282\n",
       "...                 ...      ...      ...\n",
       "Wonga Park     0.000188      NaN      NaN\n",
       "Wyndham Vale   0.001596      NaN      NaN\n",
       "Yallambie      0.001784      NaN      NaN\n",
       "Yarra Glen     0.000094      NaN      NaN\n",
       "Yarraville     0.010140 0.000751 0.001127\n",
       "\n",
       "[324 rows x 3 columns]"
      ]
     },
     "execution_count": 65,
     "metadata": {},
     "output_type": "execute_result"
    }
   ],
   "source": [
    "melb_suburb_type_proportion = melb_suburb_type_proportion.unstack(level='type')\n",
    "melb_suburb_type_proportion"
   ]
  },
  {
   "cell_type": "markdown",
   "id": "fa21df6b",
   "metadata": {},
   "source": [
    "There are two levels of columns in the dataframe, proportion and type. Recommended to combine to a single column for a cleaner dataframe for analysis."
   ]
  },
  {
   "cell_type": "markdown",
   "id": "77c77ba9",
   "metadata": {},
   "source": [
    "**Action:** Flatten the column names to 1 level:"
   ]
  },
  {
   "cell_type": "code",
   "execution_count": 66,
   "id": "a96fc0aa",
   "metadata": {},
   "outputs": [],
   "source": [
    "melb_suburb_type_proportion.columns = melb_suburb_type_proportion.columns.to_flat_index().str.join('_')"
   ]
  },
  {
   "cell_type": "code",
   "execution_count": 67,
   "id": "ef5adced",
   "metadata": {},
   "outputs": [
    {
     "data": {
      "text/html": [
       "<div>\n",
       "<style scoped>\n",
       "    .dataframe tbody tr th:only-of-type {\n",
       "        vertical-align: middle;\n",
       "    }\n",
       "\n",
       "    .dataframe tbody tr th {\n",
       "        vertical-align: top;\n",
       "    }\n",
       "\n",
       "    .dataframe thead th {\n",
       "        text-align: right;\n",
       "    }\n",
       "</style>\n",
       "<table border=\"1\" class=\"dataframe\">\n",
       "  <thead>\n",
       "    <tr style=\"text-align: right;\">\n",
       "      <th></th>\n",
       "      <th>proportion_h</th>\n",
       "      <th>proportion_t</th>\n",
       "      <th>proportion_u</th>\n",
       "    </tr>\n",
       "    <tr>\n",
       "      <th>suburb</th>\n",
       "      <th></th>\n",
       "      <th></th>\n",
       "      <th></th>\n",
       "    </tr>\n",
       "  </thead>\n",
       "  <tbody>\n",
       "    <tr>\n",
       "      <th>Abbotsford</th>\n",
       "      <td>0.003474</td>\n",
       "      <td>NaN</td>\n",
       "      <td>0.000939</td>\n",
       "    </tr>\n",
       "    <tr>\n",
       "      <th>Aberfeldie</th>\n",
       "      <td>0.002253</td>\n",
       "      <td>0.000282</td>\n",
       "      <td>0.000376</td>\n",
       "    </tr>\n",
       "    <tr>\n",
       "      <th>Airport West</th>\n",
       "      <td>0.003568</td>\n",
       "      <td>0.000939</td>\n",
       "      <td>0.000751</td>\n",
       "    </tr>\n",
       "    <tr>\n",
       "      <th>Albanvale</th>\n",
       "      <td>0.000469</td>\n",
       "      <td>NaN</td>\n",
       "      <td>NaN</td>\n",
       "    </tr>\n",
       "    <tr>\n",
       "      <th>Albert Park</th>\n",
       "      <td>0.003568</td>\n",
       "      <td>NaN</td>\n",
       "      <td>0.000282</td>\n",
       "    </tr>\n",
       "    <tr>\n",
       "      <th>...</th>\n",
       "      <td>...</td>\n",
       "      <td>...</td>\n",
       "      <td>...</td>\n",
       "    </tr>\n",
       "    <tr>\n",
       "      <th>Wonga Park</th>\n",
       "      <td>0.000188</td>\n",
       "      <td>NaN</td>\n",
       "      <td>NaN</td>\n",
       "    </tr>\n",
       "    <tr>\n",
       "      <th>Wyndham Vale</th>\n",
       "      <td>0.001596</td>\n",
       "      <td>NaN</td>\n",
       "      <td>NaN</td>\n",
       "    </tr>\n",
       "    <tr>\n",
       "      <th>Yallambie</th>\n",
       "      <td>0.001784</td>\n",
       "      <td>NaN</td>\n",
       "      <td>NaN</td>\n",
       "    </tr>\n",
       "    <tr>\n",
       "      <th>Yarra Glen</th>\n",
       "      <td>0.000094</td>\n",
       "      <td>NaN</td>\n",
       "      <td>NaN</td>\n",
       "    </tr>\n",
       "    <tr>\n",
       "      <th>Yarraville</th>\n",
       "      <td>0.010140</td>\n",
       "      <td>0.000751</td>\n",
       "      <td>0.001127</td>\n",
       "    </tr>\n",
       "  </tbody>\n",
       "</table>\n",
       "<p>324 rows × 3 columns</p>\n",
       "</div>"
      ],
      "text/plain": [
       "              proportion_h  proportion_t  proportion_u\n",
       "suburb                                                \n",
       "Abbotsford        0.003474           NaN      0.000939\n",
       "Aberfeldie        0.002253      0.000282      0.000376\n",
       "Airport West      0.003568      0.000939      0.000751\n",
       "Albanvale         0.000469           NaN           NaN\n",
       "Albert Park       0.003568           NaN      0.000282\n",
       "...                    ...           ...           ...\n",
       "Wonga Park        0.000188           NaN           NaN\n",
       "Wyndham Vale      0.001596           NaN           NaN\n",
       "Yallambie         0.001784           NaN           NaN\n",
       "Yarra Glen        0.000094           NaN           NaN\n",
       "Yarraville        0.010140      0.000751      0.001127\n",
       "\n",
       "[324 rows x 3 columns]"
      ]
     },
     "execution_count": 67,
     "metadata": {},
     "output_type": "execute_result"
    }
   ],
   "source": [
    "melb_suburb_type_proportion"
   ]
  },
  {
   "cell_type": "markdown",
   "id": "0f0332e1",
   "metadata": {},
   "source": [
    "**Action:** Sort by top 5 and bottom 5 unit proportions"
   ]
  },
  {
   "cell_type": "code",
   "execution_count": 68,
   "id": "57e0f4e0",
   "metadata": {},
   "outputs": [],
   "source": [
    "top_5_proportion_u = melb_suburb_type_proportion.sort_values(by=['proportion_u'], ascending=False).head(5)"
   ]
  },
  {
   "cell_type": "code",
   "execution_count": 69,
   "id": "de0f400b",
   "metadata": {},
   "outputs": [],
   "source": [
    "bottom_5_proportion_u = melb_suburb_type_proportion.sort_values(by=['proportion_u'], ascending=True).head(5)"
   ]
  },
  {
   "cell_type": "markdown",
   "id": "d5da8b79",
   "metadata": {},
   "source": [
    "**Action:** Convert the series to frames"
   ]
  },
  {
   "cell_type": "code",
   "execution_count": 70,
   "id": "40f1ee0e",
   "metadata": {},
   "outputs": [],
   "source": [
    "top_5 = top_5_proportion_u['proportion_u'].to_frame()\n",
    "bottom_5 = bottom_5_proportion_u['proportion_u'].to_frame()"
   ]
  },
  {
   "cell_type": "markdown",
   "id": "07c30ff6",
   "metadata": {},
   "source": [
    "**Action:** Show the top 5 suburbs with highest and lowest proportion of unit sales"
   ]
  },
  {
   "cell_type": "code",
   "execution_count": 71,
   "id": "71b6ea20",
   "metadata": {},
   "outputs": [
    {
     "name": "stdout",
     "output_type": "stream",
     "text": [
      "             proportion_u\n",
      "suburb                   \n",
      "St Kilda         0.006760\n",
      "South Yarra      0.006384\n",
      "Elwood           0.005915\n",
      "Richmond         0.005633\n",
      "Hawthorn         0.005445\n",
      "              proportion_u\n",
      "suburb                    \n",
      "Heathmont         0.000094\n",
      "Lower Plenty      0.000094\n",
      "Mill Park         0.000094\n",
      "Doveton           0.000094\n",
      "Doreen            0.000094\n"
     ]
    }
   ],
   "source": [
    "print(top_5)  \n",
    "print(bottom_5)"
   ]
  },
  {
   "cell_type": "markdown",
   "id": "458ffa53",
   "metadata": {},
   "source": [
    "### Analysis Findings\n",
    "\n",
    "1. The top 5 suburbs with highest proportion of unit sales were all located in the Melbourne CBD area, where land is scarce and majority of homes are units.\n",
    "2. The top 5 suburbs with lowest proportion unit sales were all located outside of the Melbourne CBD area, where land is more abundant and hence more houses are available."
   ]
  }
 ],
 "metadata": {
  "kernelspec": {
   "display_name": "Python 3 (ipykernel)",
   "language": "python",
   "name": "python3"
  },
  "language_info": {
   "codemirror_mode": {
    "name": "ipython",
    "version": 3
   },
   "file_extension": ".py",
   "mimetype": "text/x-python",
   "name": "python",
   "nbconvert_exporter": "python",
   "pygments_lexer": "ipython3",
   "version": "3.9.7"
  }
 },
 "nbformat": 4,
 "nbformat_minor": 5
}
